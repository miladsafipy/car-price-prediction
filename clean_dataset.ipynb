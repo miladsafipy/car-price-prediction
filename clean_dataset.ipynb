{
 "cells": [
  {
   "cell_type": "code",
   "execution_count": 1,
   "id": "59440db9",
   "metadata": {},
   "outputs": [],
   "source": [
    "import pandas as pd\n",
    "import re"
   ]
  },
  {
   "cell_type": "code",
   "execution_count": 2,
   "id": "bf9d76ee",
   "metadata": {},
   "outputs": [],
   "source": [
    "df = pd.read_csv('cazooCarsDataset.csv')"
   ]
  },
  {
   "cell_type": "code",
   "execution_count": 3,
   "id": "54b0445d",
   "metadata": {},
   "outputs": [],
   "source": [
    "def parse_attributes(attr):\n",
    "    engine = None\n",
    "    doors = None\n",
    "    emission = None\n",
    "    model_full = None\n",
    "\n",
    "    if pd.isna(attr):\n",
    "        return pd.Series([engine, doors, emission, model_full])\n",
    "    \n",
    "    text = attr\n",
    "\n",
    "    # delete number: (24) - \n",
    "    text = re.sub(r'^\\(\\d+\\)\\s*-\\s*', '', text).strip()\n",
    "\n",
    "    # Engine Size\n",
    "    # 320d = series 3, 2.0 diesel\n",
    "    engine_match_bmw = re.search(r'(\\d{3})d', text, flags=re.IGNORECASE)\n",
    "    if engine_match_bmw:\n",
    "        val = int(engine_match_bmw.group(1))\n",
    "        engine = round(val / 100.0, 1)   # 320 → 2.0\n",
    "        \n",
    "\n",
    "    # 2.0 simple   or 3.0T = 3.0 Turbo/Petrol\n",
    "    engine_match = re.search(r'(\\d\\.\\d)\\s*T?', text)\n",
    "    if engine_match:\n",
    "        engine = float(engine_match.group(1))\n",
    "\n",
    "    # Doors\n",
    "    doors_match = re.search(r'(\\d)\\s*[- ]?dr', text, flags=re.IGNORECASE)\n",
    "    if not doors_match:\n",
    "        doors_match = re.search(r'(\\d)\\s*[- ]?Door', text, flags=re.IGNORECASE)\n",
    "    if doors_match:\n",
    "        doors = int(doors_match.group(1))\n",
    "\n",
    "    # Emission Standard\n",
    "    emission_match = re.search(r'Euro\\s*\\d+(\\s*\\(s/s\\))?', text, flags=re.IGNORECASE)\n",
    "    if emission_match:\n",
    "        emission = emission_match.group(0)\n",
    "\n",
    "    # residual text = ModelFull \n",
    "    model_full = re.sub(r'^\\d{3}d', '', text)                 # 320d\n",
    "    model_full = re.sub(r'\\d\\.\\dT?', '', model_full)          # 2.0 or 3.0T\n",
    "    model_full = re.sub(r'\\d\\s*[- ]?(dr|Door)', '', model_full, flags=re.IGNORECASE) # Doors\n",
    "    model_full = re.sub(r'Euro\\s*\\d+(\\s*\\(s/s\\))?', '', model_full, flags=re.IGNORECASE) # Euro\n",
    "    model_full = re.sub(r'\\s+', ' ', model_full).strip()      # gaps\n",
    "\n",
    "    return pd.Series([engine, doors, emission, model_full])\n",
    "\n",
    "\n",
    "df[[\"EngineSize\", \"Doors\", \"Emission\", \"ModelFull\"]] = df[\"Attrebutes\"].apply(parse_attributes)\n",
    "\n",
    "df[\"Doors\"] = df[\"Doors\"].astype(\"Int64\")\n",
    "\n",
    "df.drop(columns=[\"Attrebutes\"], inplace=True)\n",
    "\n",
    "df.to_csv(\"cazooCarsDataset_clean.csv\", index=False)"
   ]
  }
 ],
 "metadata": {
  "kernelspec": {
   "display_name": ".venv",
   "language": "python",
   "name": "python3"
  },
  "language_info": {
   "codemirror_mode": {
    "name": "ipython",
    "version": 3
   },
   "file_extension": ".py",
   "mimetype": "text/x-python",
   "name": "python",
   "nbconvert_exporter": "python",
   "pygments_lexer": "ipython3",
   "version": "3.12.9"
  }
 },
 "nbformat": 4,
 "nbformat_minor": 5
}
