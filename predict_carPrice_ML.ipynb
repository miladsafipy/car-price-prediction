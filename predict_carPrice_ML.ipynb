{
 "cells": [
  {
   "cell_type": "code",
   "execution_count": 1,
   "id": "59440db9",
   "metadata": {},
   "outputs": [],
   "source": [
    "import pandas as pd\n",
    "import numpy as np\n",
    "from sklearn.preprocessing import OneHotEncoder, StandardScaler\n",
    "from sklearn.compose import ColumnTransformer\n",
    "from sklearn.pipeline import Pipeline\n",
    "from sklearn.ensemble import RandomForestRegressor\n",
    "from sklearn.model_selection import train_test_split\n",
    "import numpy as np\n",
    "from sklearn.metrics import mean_absolute_error, mean_squared_error, r2_score\n",
    "import joblib"
   ]
  },
  {
   "cell_type": "code",
   "execution_count": 2,
   "id": "4221be38",
   "metadata": {},
   "outputs": [],
   "source": [
    "df = pd.read_csv('finalCarDataset.csv')"
   ]
  },
  {
   "cell_type": "code",
   "execution_count": 3,
   "id": "e5effa1a",
   "metadata": {},
   "outputs": [],
   "source": [
    "X = df.drop(columns=['Registration', 'Price(£)', 'ModelFull', 'logPrice'])\n",
    "y = df['logPrice']\n",
    "\n",
    "X_train, X_test, y_train, y_test = train_test_split(X, y, test_size=0.2, random_state=42)"
   ]
  },
  {
   "cell_type": "code",
   "execution_count": 4,
   "id": "5f1e279e",
   "metadata": {},
   "outputs": [],
   "source": [
    "def pipe_model(model):\n",
    "    categorical_features = ['Brand', 'Model', 'Control','Fuel', 'Location', 'Emission']\n",
    "    categorical_transforemer = OneHotEncoder(handle_unknown='ignore')\n",
    "\n",
    "    numerical_features = ['Year', 'Miles(k miles)', 'EngineSize', 'Doors']\n",
    "    numerical_transformer = StandardScaler()\n",
    "\n",
    "    preprocessor = ColumnTransformer([\n",
    "        ('cat', categorical_transforemer, categorical_features),\n",
    "        ('num', numerical_transformer, numerical_features)\n",
    "    ])\n",
    "\n",
    "    regression_model = Pipeline(steps=[\n",
    "        ('preprocessing', preprocessor),\n",
    "        ('regressor', model)\n",
    "    ])\n",
    "\n",
    "    return regression_model\n"
   ]
  },
  {
   "cell_type": "code",
   "execution_count": 5,
   "id": "d4b0fc91",
   "metadata": {},
   "outputs": [],
   "source": [
    "def calculate_metrics(model_name, y_actual_train, y_prediction_train, y_actual_test, y_prediction_test):\n",
    "\n",
    "    mae_train = mean_absolute_error(y_actual_train, y_prediction_train)\n",
    "    mae_test = mean_absolute_error(y_actual_test, y_prediction_test)\n",
    "    mse_train = mean_squared_error(y_actual_train, y_prediction_train)\n",
    "    mse_test = mean_squared_error(y_actual_test, y_prediction_test)\n",
    "    r2_train = r2_score(y_actual_train, y_prediction_train)\n",
    "    r2_test = r2_score(y_actual_test, y_prediction_test)\n",
    "\n",
    "    print(f'Metrics for {model_name}: ')\n",
    "    print(f'MAE train = {mae_train:.2f}\\nMAE test = {mae_test:.2f}')\n",
    "    print(f'MSE train = {mse_train:.2f}\\nMSE test = {mse_test:.2f}')\n",
    "    print(f'R2 Score train = {r2_train:.3f}\\nR2 Score test = {r2_test:.3f}')\n",
    "\n",
    "    return  mae_test, mse_test, r2_test"
   ]
  },
  {
   "cell_type": "code",
   "execution_count": 6,
   "id": "f682d476",
   "metadata": {},
   "outputs": [
    {
     "name": "stdout",
     "output_type": "stream",
     "text": [
      "Metrics for Random Forest Regression: \n",
      "MAE train = 1547.09\n",
      "MAE test = 3172.53\n",
      "MSE train = 39953941.75\n",
      "MSE test = 63570496.85\n",
      "R2 Score train = 0.933\n",
      "R2 Score test = 0.836\n"
     ]
    }
   ],
   "source": [
    "rf_model = pipe_model(RandomForestRegressor(n_estimators=300, max_depth=32, random_state=42))\n",
    "rf_model.fit(X_train, y_train)\n",
    "\n",
    "# ==== Predict ==== #\n",
    "y_prediction_train_rf = np.exp(rf_model.predict(X_train))\n",
    "y_prediction_test_rf = np.exp(rf_model.predict(X_test))\n",
    "y_actual_train = np.exp(y_train)\n",
    "y_actual_test = np.exp(y_test)\n",
    "\n",
    "# ==== Evaluate ==== #\n",
    "rf_test_mae, rf_test_mse, rf_test_r2 = calculate_metrics(\n",
    "    'Random Forest Regression',\n",
    "    y_actual_train, y_prediction_train_rf,\n",
    "    y_actual_test, y_prediction_test_rf\n",
    ")"
   ]
  },
  {
   "cell_type": "code",
   "execution_count": 7,
   "id": "6f2a5bb2",
   "metadata": {},
   "outputs": [
    {
     "data": {
      "text/plain": [
       "['random_forest_carPrice.pkl']"
      ]
     },
     "execution_count": 7,
     "metadata": {},
     "output_type": "execute_result"
    }
   ],
   "source": [
    "joblib.dump(rf_model, \"random_forest_carPrice.pkl\")"
   ]
  }
 ],
 "metadata": {
  "kernelspec": {
   "display_name": ".venv",
   "language": "python",
   "name": "python3"
  },
  "language_info": {
   "codemirror_mode": {
    "name": "ipython",
    "version": 3
   },
   "file_extension": ".py",
   "mimetype": "text/x-python",
   "name": "python",
   "nbconvert_exporter": "python",
   "pygments_lexer": "ipython3",
   "version": "3.12.9"
  }
 },
 "nbformat": 4,
 "nbformat_minor": 5
}
